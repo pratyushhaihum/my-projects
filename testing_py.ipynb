{
  "nbformat": 4,
  "nbformat_minor": 0,
  "metadata": {
    "colab": {
      "provenance": [],
      "authorship_tag": "ABX9TyOwviYJYipOn526pvUD0Nqj",
      "include_colab_link": true
    },
    "kernelspec": {
      "name": "python3",
      "display_name": "Python 3"
    },
    "language_info": {
      "name": "python"
    }
  },
  "cells": [
    {
      "cell_type": "markdown",
      "metadata": {
        "id": "view-in-github",
        "colab_type": "text"
      },
      "source": [
        "<a href=\"https://colab.research.google.com/github/pratyushhaihum/pratyushhaihum/blob/main/testing_py.ipynb\" target=\"_parent\"><img src=\"https://colab.research.google.com/assets/colab-badge.svg\" alt=\"Open In Colab\"/></a>"
      ]
    },
    {
      "cell_type": "code",
      "execution_count": 1,
      "metadata": {
        "colab": {
          "base_uri": "https://localhost:8080/"
        },
        "id": "qayMnxUzc9Qh",
        "outputId": "2bbb1845-1af0-44ff-e1d8-adbf50d642f1"
      },
      "outputs": [
        {
          "output_type": "stream",
          "name": "stdout",
          "text": [
            "3\n"
          ]
        }
      ],
      "source": [
        "a=1\n",
        "b=2\n",
        "print(a+b)"
      ]
    },
    {
      "cell_type": "code",
      "source": [
        "for i in range(1,21):\n",
        "  if i%2==0:\n",
        "    print(i)\n",
        "\n"
      ],
      "metadata": {
        "colab": {
          "base_uri": "https://localhost:8080/"
        },
        "id": "uM3qcuDtdnEE",
        "outputId": "41b99b50-3c8b-45d9-e597-b2d87f89ea4e"
      },
      "execution_count": 5,
      "outputs": [
        {
          "output_type": "stream",
          "name": "stdout",
          "text": [
            "2\n",
            "4\n",
            "6\n",
            "8\n",
            "10\n",
            "12\n",
            "14\n",
            "16\n",
            "18\n",
            "20\n"
          ]
        }
      ]
    },
    {
      "cell_type": "code",
      "source": [
        "import random\n",
        "\n",
        "number = random.randint(1, 100)\n",
        "guesses_left = 7\n",
        "\n",
        "print(\"I'm thinking of a number between 1 and 100.\")\n",
        "\n",
        "while guesses_left > 0:\n",
        "  try:\n",
        "    guess = int(input(\"Take a guess: \"))\n",
        "  except ValueError:\n",
        "    print(\"Invalid input. Please enter a number.\")\n",
        "    continue\n",
        "\n",
        "  if guess < number:\n",
        "    print(\"Too low!\")\n",
        "  elif guess > number:\n",
        "    print(\"Too high!\")\n",
        "  else:\n",
        "    print(f\"You got it! The number was {number}\")\n",
        "    break\n",
        "\n",
        "  guesses_left -= 1\n",
        "  print(f\"You have {guesses_left} guesses left.\")\n",
        "\n",
        "if guesses_left == 0:\n",
        "  print(f\"You ran out of guesses! The number was {number}\")\n"
      ],
      "metadata": {
        "colab": {
          "base_uri": "https://localhost:8080/"
        },
        "id": "acI98ESUeSZ7",
        "outputId": "e173a339-c3e2-40ed-c4b8-7231ea81878c"
      },
      "execution_count": 6,
      "outputs": [
        {
          "output_type": "stream",
          "name": "stdout",
          "text": [
            "I'm thinking of a number between 1 and 100.\n",
            "Take a guess: 23\n",
            "Too low!\n",
            "You have 6 guesses left.\n",
            "Take a guess: 78\n",
            "You got it! The number was 78\n"
          ]
        }
      ]
    },
    {
      "cell_type": "code",
      "source": [
        "import numpy as np\n",
        "arr1=np.array([1,2,3])\n",
        "print(arr1)"
      ],
      "metadata": {
        "colab": {
          "base_uri": "https://localhost:8080/"
        },
        "id": "FsOpRwe6eUDa",
        "outputId": "5013f42f-48d1-4c07-96d8-c75a96c1c2ae"
      },
      "execution_count": 7,
      "outputs": [
        {
          "output_type": "stream",
          "name": "stdout",
          "text": [
            "[1 2 3]\n"
          ]
        }
      ]
    },
    {
      "cell_type": "code",
      "source": [
        "import numpy as np\n",
        "arr2=np.array([[1,2,3],[4,5,6]])\n",
        "print(arr2)"
      ],
      "metadata": {
        "colab": {
          "base_uri": "https://localhost:8080/"
        },
        "id": "04CFmMP_e_mM",
        "outputId": "f28031ba-ae72-48dc-95e1-e07a40634f80"
      },
      "execution_count": 8,
      "outputs": [
        {
          "output_type": "stream",
          "name": "stdout",
          "text": [
            "[[1 2 3]\n",
            " [4 5 6]]\n"
          ]
        }
      ]
    },
    {
      "cell_type": "code",
      "source": [
        "import numpy as np\n",
        "arr1=np.array([2,5,9])\n",
        "arr2=np.array([1,2,3])\n",
        "print(arr1**arr2)"
      ],
      "metadata": {
        "colab": {
          "base_uri": "https://localhost:8080/"
        },
        "id": "bmBfq8csfKDD",
        "outputId": "fc1f8ae2-e6ea-4212-e277-84dc5bbae20b"
      },
      "execution_count": 13,
      "outputs": [
        {
          "output_type": "stream",
          "name": "stdout",
          "text": [
            "[  2  25 729]\n"
          ]
        }
      ]
    },
    {
      "cell_type": "code",
      "source": [
        "import numpy as np\n",
        "arr1=np.array([2,5,9])\n",
        "arr2=np.array([1,2,3])\n",
        "print(arr1*arr2)"
      ],
      "metadata": {
        "colab": {
          "base_uri": "https://localhost:8080/"
        },
        "id": "pHdQIl3Qgq5Z",
        "outputId": "a78f8680-7770-4597-c818-a0274a437e45"
      },
      "execution_count": 14,
      "outputs": [
        {
          "output_type": "stream",
          "name": "stdout",
          "text": [
            "[ 2 10 27]\n"
          ]
        }
      ]
    }
  ]
}